{
 "cells": [
  {
   "cell_type": "code",
   "execution_count": 1,
   "metadata": {},
   "outputs": [],
   "source": [
    "import pandas as pd\n",
    "import numpy as np\n",
    "from tqdm import tqdm \n",
    "import nltk"
   ]
  },
  {
   "cell_type": "code",
   "execution_count": 3,
   "metadata": {},
   "outputs": [
    {
     "name": "stderr",
     "output_type": "stream",
     "text": [
      "100%|██████████████████████████████████████████████████████████████████████████████████| 14463272/14463272 [01:05<00:00, 221727.58it/s]\n"
     ]
    }
   ],
   "source": [
    "mrconso = []\n",
    "\n",
    "with open('../data/MRCONSO.RRF','r') as f:\n",
    "    \n",
    "    for line in tqdm(f.readlines()):\n",
    "        mrconso.append(line.strip().split('|'))"
   ]
  },
  {
   "cell_type": "code",
   "execution_count": 4,
   "metadata": {},
   "outputs": [],
   "source": [
    "filtered_mrconso = []\n",
    "\n",
    "for line in mrconso:\n",
    "    if line[1] == 'ENG' and line[16] == 'N':\n",
    "        filtered_mrconso.append((line[0],line[14],line[11],line[2],line[4],line[12],line[6],line[-6]))"
   ]
  },
  {
   "cell_type": "code",
   "execution_count": 13,
   "metadata": {},
   "outputs": [],
   "source": [
    "mrconso_df = pd.DataFrame(filtered_mrconso)"
   ]
  },
  {
   "cell_type": "code",
   "execution_count": 14,
   "metadata": {},
   "outputs": [],
   "source": [
    "mrconso_df.columns = ['cui','name','source','term_status','string_type','term_type','pref','source_code']"
   ]
  },
  {
   "cell_type": "code",
   "execution_count": 15,
   "metadata": {},
   "outputs": [],
   "source": [
    "mrconso_df = mrconso_df[['name']]\n",
    "mrconso_df = mrconso_df.drop_duplicates()"
   ]
  },
  {
   "cell_type": "code",
   "execution_count": 18,
   "metadata": {},
   "outputs": [],
   "source": [
    "mrconso_df.to_csv('../data/mrconso_eng_strings.csv',sep='\\t',header=None,index=None)"
   ]
  }
 ],
 "metadata": {
  "kernelspec": {
   "display_name": "sub-opt",
   "language": "python",
   "name": "sub-opt"
  },
  "language_info": {
   "codemirror_mode": {
    "name": "ipython",
    "version": 3
   },
   "file_extension": ".py",
   "mimetype": "text/x-python",
   "name": "python",
   "nbconvert_exporter": "python",
   "pygments_lexer": "ipython3",
   "version": "3.11.3"
  }
 },
 "nbformat": 4,
 "nbformat_minor": 4
}
