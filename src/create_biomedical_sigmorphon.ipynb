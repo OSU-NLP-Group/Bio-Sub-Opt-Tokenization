{
 "cells": [
  {
   "cell_type": "code",
   "execution_count": null,
   "id": "62315401",
   "metadata": {},
   "outputs": [],
   "source": [
    "import pandas as pd\n",
    "import numpy as np\n",
    "from tqdm import tqdm\n",
    "import re\n",
    "import pickle\n",
    "\n",
    "from tokenizers import Tokenizer\n",
    "from tokenizers.models import WordPiece,BPE\n",
    "from tokenizers.trainers import WordPieceTrainer, BpeTrainer\n",
    "from tokenizers.pre_tokenizers import Whitespace"
   ]
  },
  {
   "cell_type": "code",
   "execution_count": null,
   "id": "37ce80b3",
   "metadata": {},
   "outputs": [],
   "source": [
    "train = pd.read_csv('../data/eng.word.train.tsv',sep='\\t',header=None)\n",
    "dev = pd.read_csv('../data/eng.word.dev.tsv',sep='\\t',header=None)\n",
    "test = pd.read_csv('../data/eng.word.test.tsv',sep='\\t',header=None)"
   ]
  },
  {
   "cell_type": "code",
   "execution_count": null,
   "id": "68169ba7",
   "metadata": {},
   "outputs": [],
   "source": [
    "umls = pd.read_csv('../data/mrconso_eng_strings.csv',sep='\\t',header=None)"
   ]
  },
  {
   "cell_type": "code",
   "execution_count": null,
   "id": "ca7f18bc",
   "metadata": {},
   "outputs": [],
   "source": [
    "umls"
   ]
  },
  {
   "cell_type": "code",
   "execution_count": null,
   "id": "300abf1c",
   "metadata": {},
   "outputs": [],
   "source": [
    "from tokenizers.pre_tokenizers import Sequence, Whitespace, Punctuation, Split\n",
    "\n",
    "whitespace_pretokenizer = Sequence([Whitespace(), Punctuation()])\n",
    " \n",
    "umls_words = {}\n",
    "umls_idf = {}\n",
    "\n",
    "for phrase in tqdm(umls[0]):\n",
    "    \n",
    "    phrase = str(phrase).lower()\n",
    "    \n",
    "    tokens = [t[0] for t in whitespace_pretokenizer.pre_tokenize_str(phrase)]\n",
    "    \n",
    "    for token in tokens:\n",
    "        umls_words[token] = umls_words.get(token,0) + 1"
   ]
  },
  {
   "cell_type": "code",
   "execution_count": null,
   "id": "6f80c702",
   "metadata": {},
   "outputs": [],
   "source": [
    "umls_df = pd.DataFrame(umls_words.items())\n",
    "umls_df['word'] = [re.match('^[a-z]+$',w) is not None for w in umls_df[0]]\n",
    "umls_df['len'] = [len(w) for w in umls_df[0]]"
   ]
  },
  {
   "cell_type": "code",
   "execution_count": null,
   "id": "65eb7474",
   "metadata": {},
   "outputs": [],
   "source": [
    "umls_df = umls_df[umls_df['len'] > 4].sort_values(1,ascending=False)\n",
    "umls_df = umls_df[umls_df['word']]"
   ]
  },
  {
   "cell_type": "code",
   "execution_count": null,
   "id": "e503b20c",
   "metadata": {},
   "outputs": [],
   "source": [
    "umls_df"
   ]
  },
  {
   "cell_type": "code",
   "execution_count": null,
   "id": "aae185ae",
   "metadata": {},
   "outputs": [],
   "source": [
    "wiki_words = pickle.load(open('../data/wiki_vocab.p','rb'))"
   ]
  },
  {
   "cell_type": "code",
   "execution_count": null,
   "id": "6625d743",
   "metadata": {},
   "outputs": [],
   "source": [
    "pubmed_words = pickle.load(open('../data/words_by_freq.p','rb'))"
   ]
  },
  {
   "cell_type": "code",
   "execution_count": null,
   "id": "83e93a46",
   "metadata": {},
   "outputs": [],
   "source": [
    "umls_df['wiki_freq'] = [wiki_words[0].get(w,0) for w in umls_df[0]]"
   ]
  },
  {
   "cell_type": "code",
   "execution_count": null,
   "id": "1abf2304",
   "metadata": {},
   "outputs": [],
   "source": [
    "umls_df['pubmed_freq'] = [pubmed_words.get(w,0) for w in umls_df[0]]"
   ]
  },
  {
   "cell_type": "code",
   "execution_count": null,
   "id": "e71a0b4f",
   "metadata": {},
   "outputs": [],
   "source": [
    "umls_df['norm_wiki_freq'] = umls_df['wiki_freq']/umls_df['wiki_freq'].sum()\n",
    "umls_df['norm_pubmed_freq'] = umls_df.pubmed_freq/umls_df.pubmed_freq.sum()"
   ]
  },
  {
   "cell_type": "code",
   "execution_count": null,
   "id": "e72c872d",
   "metadata": {},
   "outputs": [],
   "source": [
    "umls_df['norm_pubmedness'] = (umls_df.norm_pubmed_freq - umls_df.norm_wiki_freq)\n",
    "umls_df['pubmedness'] = (umls_df.pubmed_freq - umls_df.wiki_freq)/(umls_df.pubmed_freq + 1)"
   ]
  },
  {
   "cell_type": "code",
   "execution_count": null,
   "id": "1f74609e",
   "metadata": {},
   "outputs": [],
   "source": [
    "umls_df.describe()"
   ]
  },
  {
   "cell_type": "code",
   "execution_count": null,
   "id": "16491f30",
   "metadata": {},
   "outputs": [],
   "source": [
    "umls_df"
   ]
  },
  {
   "cell_type": "code",
   "execution_count": null,
   "id": "3cb3392e",
   "metadata": {},
   "outputs": [],
   "source": [
    "umls_df = umls_df[umls_df.norm_pubmedness > 0]"
   ]
  },
  {
   "cell_type": "code",
   "execution_count": null,
   "id": "aed2a7ab",
   "metadata": {},
   "outputs": [],
   "source": [
    "umls_df.sort_values('norm_pubmedness',ascending=False)[:100]"
   ]
  },
  {
   "cell_type": "code",
   "execution_count": null,
   "id": "523136ec",
   "metadata": {},
   "outputs": [],
   "source": [
    "umls_df['combined_stat'] = umls_df[1]*umls_df.pubmedness"
   ]
  },
  {
   "cell_type": "code",
   "execution_count": null,
   "id": "abab541d",
   "metadata": {},
   "outputs": [],
   "source": [
    "umls_df = umls_df.sort_values('combined_stat',ascending=False)"
   ]
  },
  {
   "cell_type": "code",
   "execution_count": null,
   "id": "a8565a09",
   "metadata": {},
   "outputs": [],
   "source": [
    "umls_df"
   ]
  },
  {
   "cell_type": "code",
   "execution_count": null,
   "id": "011add92",
   "metadata": {},
   "outputs": [],
   "source": [
    "umls_df = umls_df[umls_df.len < 29]"
   ]
  },
  {
   "cell_type": "code",
   "execution_count": null,
   "id": "8f2647da",
   "metadata": {},
   "outputs": [],
   "source": [
    "len(train),len(train.merge(umls_df,on=0,how='inner'))"
   ]
  },
  {
   "cell_type": "code",
   "execution_count": null,
   "id": "bdf1c900",
   "metadata": {},
   "outputs": [],
   "source": [
    "len(dev),len(dev.merge(umls_df,on=0,how='inner'))"
   ]
  },
  {
   "cell_type": "code",
   "execution_count": null,
   "id": "6b8eeea3",
   "metadata": {},
   "outputs": [],
   "source": [
    "len(test),len(test.merge(umls_df,on=0,how='inner'))"
   ]
  },
  {
   "cell_type": "code",
   "execution_count": null,
   "id": "3733447e",
   "metadata": {},
   "outputs": [],
   "source": [
    "dev_bio_words = dev.merge(umls_df,on=0,how='inner')\n",
    "dev_bio_words.to_csv('../data/dev_bio_words.tsv')"
   ]
  }
 ],
 "metadata": {
  "kernelspec": {
   "display_name": "sub-opt",
   "language": "python",
   "name": "sub-opt"
  },
  "language_info": {
   "codemirror_mode": {
    "name": "ipython",
    "version": 3
   },
   "file_extension": ".py",
   "mimetype": "text/x-python",
   "name": "python",
   "nbconvert_exporter": "python",
   "pygments_lexer": "ipython3",
   "version": "3.11.3"
  }
 },
 "nbformat": 4,
 "nbformat_minor": 5
}
